{
 "cells": [
  {
   "cell_type": "code",
   "execution_count": 4,
   "id": "63bab265",
   "metadata": {},
   "outputs": [
    {
     "name": "stderr",
     "output_type": "stream",
     "text": [
      "[I 2025-05-21 19:31:13,627] A new study created in memory with name: no-name-7135e5fd-89bd-4283-9c5e-bf9cf510ea23\n"
     ]
    },
    {
     "name": "stderr",
     "output_type": "stream",
     "text": [
      "[I 2025-05-21 19:31:16,994] Trial 0 finished with value: 0.723842683007923 and parameters: {'fit_intercept': True}. Best is trial 0 with value: 0.723842683007923.\n",
      "[I 2025-05-21 19:31:18,961] Trial 1 finished with value: 0.723842683007923 and parameters: {'fit_intercept': True}. Best is trial 0 with value: 0.723842683007923.\n",
      "[I 2025-05-21 19:31:20,771] Trial 2 finished with value: 0.723842683007923 and parameters: {'fit_intercept': True}. Best is trial 0 with value: 0.723842683007923.\n",
      "[I 2025-05-21 19:31:20,813] Trial 3 finished with value: 0.723842683007923 and parameters: {'fit_intercept': True}. Best is trial 0 with value: 0.723842683007923.\n",
      "[I 2025-05-21 19:31:20,849] Trial 4 finished with value: 0.7802127590785453 and parameters: {'fit_intercept': False}. Best is trial 0 with value: 0.723842683007923.\n",
      "[I 2025-05-21 19:31:20,876] Trial 5 finished with value: 0.7802127590785453 and parameters: {'fit_intercept': False}. Best is trial 0 with value: 0.723842683007923.\n",
      "[I 2025-05-21 19:31:20,904] Trial 6 finished with value: 0.7802127590785453 and parameters: {'fit_intercept': False}. Best is trial 0 with value: 0.723842683007923.\n",
      "[I 2025-05-21 19:31:20,930] Trial 7 finished with value: 0.7802127590785453 and parameters: {'fit_intercept': False}. Best is trial 0 with value: 0.723842683007923.\n",
      "[I 2025-05-21 19:31:20,957] Trial 8 finished with value: 0.7802127590785453 and parameters: {'fit_intercept': False}. Best is trial 0 with value: 0.723842683007923.\n",
      "[I 2025-05-21 19:31:20,985] Trial 9 finished with value: 0.723842683007923 and parameters: {'fit_intercept': True}. Best is trial 0 with value: 0.723842683007923.\n",
      "[I 2025-05-21 19:31:21,431] A new study created in memory with name: no-name-e1255bfe-d43c-4782-9b53-f9b90fb51788\n"
     ]
    },
    {
     "name": "stdout",
     "output_type": "stream",
     "text": [
      "[LinearRegression] Best params: {'fit_intercept': True}\n"
     ]
    },
    {
     "name": "stderr",
     "output_type": "stream",
     "text": [
      "[I 2025-05-21 19:31:44,869] Trial 0 finished with value: 0.5189885803403937 and parameters: {'n_estimators': 207, 'max_depth': 15, 'min_samples_split': 3, 'min_samples_leaf': 4}. Best is trial 0 with value: 0.5189885803403937.\n",
      "[I 2025-05-21 19:32:17,177] Trial 1 finished with value: 0.5125976108775561 and parameters: {'n_estimators': 245, 'max_depth': 19, 'min_samples_split': 2, 'min_samples_leaf': 2}. Best is trial 1 with value: 0.5125976108775561.\n",
      "[I 2025-05-21 19:32:32,144] Trial 2 finished with value: 0.6684296815248846 and parameters: {'n_estimators': 296, 'max_depth': 5, 'min_samples_split': 6, 'min_samples_leaf': 1}. Best is trial 1 with value: 0.5125976108775561.\n",
      "[I 2025-05-21 19:32:49,590] Trial 3 finished with value: 0.5406331046972129 and parameters: {'n_estimators': 194, 'max_depth': 10, 'min_samples_split': 5, 'min_samples_leaf': 4}. Best is trial 1 with value: 0.5125976108775561.\n",
      "[I 2025-05-21 19:32:58,455] Trial 4 finished with value: 0.6686829441605248 and parameters: {'n_estimators': 180, 'max_depth': 5, 'min_samples_split': 7, 'min_samples_leaf': 1}. Best is trial 1 with value: 0.5125976108775561.\n",
      "[I 2025-05-21 19:33:09,860] Trial 5 finished with value: 0.5557874395613959 and parameters: {'n_estimators': 139, 'max_depth': 9, 'min_samples_split': 9, 'min_samples_leaf': 2}. Best is trial 1 with value: 0.5125976108775561.\n",
      "[I 2025-05-21 19:33:33,501] Trial 6 finished with value: 0.5172233665749739 and parameters: {'n_estimators': 195, 'max_depth': 16, 'min_samples_split': 9, 'min_samples_leaf': 1}. Best is trial 1 with value: 0.5125976108775561.\n",
      "[I 2025-05-21 19:33:58,536] Trial 7 finished with value: 0.5409482749995351 and parameters: {'n_estimators': 271, 'max_depth': 10, 'min_samples_split': 6, 'min_samples_leaf': 2}. Best is trial 1 with value: 0.5125976108775561.\n",
      "[I 2025-05-21 19:34:13,075] Trial 8 finished with value: 0.5174641093157105 and parameters: {'n_estimators': 128, 'max_depth': 15, 'min_samples_split': 9, 'min_samples_leaf': 3}. Best is trial 1 with value: 0.5125976108775561.\n",
      "[I 2025-05-21 19:34:29,767] Trial 9 finished with value: 0.6306893266306434 and parameters: {'n_estimators': 272, 'max_depth': 6, 'min_samples_split': 6, 'min_samples_leaf': 3}. Best is trial 1 with value: 0.5125976108775561.\n"
     ]
    },
    {
     "name": "stdout",
     "output_type": "stream",
     "text": [
      "[RandomForest] Best params: {'n_estimators': 245, 'max_depth': 19, 'min_samples_split': 2, 'min_samples_leaf': 2}\n",
      "                      rmse       mae        r2\n",
      "model                                         \n",
      "LinearRegression  0.723843  0.530441  0.607160\n",
      "RandomForest      0.512796  0.335957  0.802788\n",
      "\n",
      "Test set evaluation:\n",
      "{'rmse': np.float64(0.7351215581896435), 'mae': np.float64(0.5249196585679878), 'r2': np.float64(0.5892155340782328)}\n"
     ]
    }
   ],
   "source": [
    "from plantbrain_fastml.models.regressors.linear_regression import LinearRegressionRegressor\n",
    "from plantbrain_fastml.managers.regressor_manager import RegressorManager\n",
    "from sklearn.datasets import fetch_california_housing\n",
    "from sklearn.model_selection import train_test_split\n",
    "\n",
    "# Load California housing dataset\n",
    "data = fetch_california_housing()\n",
    "X_train, X_test, y_train, y_test = train_test_split(data.data, data.target, random_state=42)\n",
    "\n",
    "# Initialize manager and add model\n",
    "manager = RegressorManager()\n",
    "model = LinearRegressionRegressor()\n",
    "manager.add_model('LinearRegression', model)\n",
    "from plantbrain_fastml.models.regressors.random_forest import RandomForestRegressorModel\n",
    "\n",
    "model2 = RandomForestRegressorModel()  # NOT sklearn's RandomForestRegressor()\n",
    "manager.add_model('RandomForest', model2)\n",
    "\n",
    "\n",
    "# IMPORTANT: evaluate_all uses X, y for training + CV/hypertune\n",
    "# Use entire training data for this; do not pass test set here\n",
    "results = manager.evaluate_all(\n",
    "    X_train, y_train,\n",
    "    hypertune=True,\n",
    "    hypertune_params={'n_trials': 10},\n",
    "    cv_folds=5,\n",
    "    return_hypertune_params=True,\n",
    "    feature_elimination=True,\n",
    "    fe_n_features=5,\n",
    "    fe_method='lasso'\n",
    ")\n",
    "\n",
    "print(results)\n",
    "\n",
    "# If you want to evaluate on test set separately:\n",
    "test_scores = model.evaluate(X_test, y_test)\n",
    "print(\"\\nTest set evaluation:\")\n",
    "print(test_scores)\n"
   ]
  },
  {
   "cell_type": "code",
   "execution_count": 2,
   "id": "92923970",
   "metadata": {},
   "outputs": [
    {
     "data": {
      "text/html": [
       "<div>\n",
       "<style scoped>\n",
       "    .dataframe tbody tr th:only-of-type {\n",
       "        vertical-align: middle;\n",
       "    }\n",
       "\n",
       "    .dataframe tbody tr th {\n",
       "        vertical-align: top;\n",
       "    }\n",
       "\n",
       "    .dataframe thead th {\n",
       "        text-align: right;\n",
       "    }\n",
       "</style>\n",
       "<table border=\"1\" class=\"dataframe\">\n",
       "  <thead>\n",
       "    <tr style=\"text-align: right;\">\n",
       "      <th></th>\n",
       "      <th>rmse</th>\n",
       "      <th>mae</th>\n",
       "      <th>r2</th>\n",
       "    </tr>\n",
       "    <tr>\n",
       "      <th>model</th>\n",
       "      <th></th>\n",
       "      <th></th>\n",
       "      <th></th>\n",
       "    </tr>\n",
       "  </thead>\n",
       "  <tbody>\n",
       "    <tr>\n",
       "      <th>LinearRegression</th>\n",
       "      <td>0.723843</td>\n",
       "      <td>0.530441</td>\n",
       "      <td>0.607160</td>\n",
       "    </tr>\n",
       "    <tr>\n",
       "      <th>RandomForest</th>\n",
       "      <td>0.513200</td>\n",
       "      <td>0.336102</td>\n",
       "      <td>0.802483</td>\n",
       "    </tr>\n",
       "  </tbody>\n",
       "</table>\n",
       "</div>"
      ],
      "text/plain": [
       "                      rmse       mae        r2\n",
       "model                                         \n",
       "LinearRegression  0.723843  0.530441  0.607160\n",
       "RandomForest      0.513200  0.336102  0.802483"
      ]
     },
     "execution_count": 2,
     "metadata": {},
     "output_type": "execute_result"
    }
   ],
   "source": [
    "results"
   ]
  },
  {
   "cell_type": "code",
   "execution_count": 7,
   "id": "d0ccb775",
   "metadata": {},
   "outputs": [
    {
     "data": {
      "text/plain": [
       "[0, 2, 3, 6, 7]"
      ]
     },
     "execution_count": 7,
     "metadata": {},
     "output_type": "execute_result"
    }
   ],
   "source": [
    "model2.selected_features"
   ]
  },
  {
   "cell_type": "code",
   "execution_count": 3,
   "id": "68b7343f",
   "metadata": {},
   "outputs": [
    {
     "data": {
      "text/plain": [
       "{'LinearRegression': {'fit_intercept': True},\n",
       " 'RandomForest': {'n_estimators': 188,\n",
       "  'max_depth': 20,\n",
       "  'min_samples_split': 3,\n",
       "  'min_samples_leaf': 2}}"
      ]
     },
     "execution_count": 3,
     "metadata": {},
     "output_type": "execute_result"
    }
   ],
   "source": [
    "manager.hypertune_params"
   ]
  },
  {
   "cell_type": "code",
   "execution_count": null,
   "id": "b099f9bc",
   "metadata": {},
   "outputs": [],
   "source": []
  }
 ],
 "metadata": {
  "kernelspec": {
   "display_name": "Python 3",
   "language": "python",
   "name": "python3"
  },
  "language_info": {
   "codemirror_mode": {
    "name": "ipython",
    "version": 3
   },
   "file_extension": ".py",
   "mimetype": "text/x-python",
   "name": "python",
   "nbconvert_exporter": "python",
   "pygments_lexer": "ipython3",
   "version": "3.13.0"
  }
 },
 "nbformat": 4,
 "nbformat_minor": 5
}
