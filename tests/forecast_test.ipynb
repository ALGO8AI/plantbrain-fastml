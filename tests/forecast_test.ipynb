{
 "cells": [
  {
   "cell_type": "code",
   "execution_count": 34,
   "id": "6e7bffa0",
   "metadata": {},
   "outputs": [
    {
     "name": "stdout",
     "output_type": "stream",
     "text": [
      "Adding /Users/aditya/Desktop/fastml/plantbrain-fastml to sys.path\n"
     ]
    }
   ],
   "source": [
    "import os, sys\n",
    "CURRENT_DIR = os.getcwd()\n",
    "FORECASTING_MODULE_DIR = os.path.abspath(os.path.join(CURRENT_DIR, '..'))\n",
    "sys.path.append(FORECASTING_MODULE_DIR)\n",
    "print(f\"Adding {FORECASTING_MODULE_DIR} to sys.path\")\n",
    "import pandas as pd\n",
    "from sklearn.metrics import mean_absolute_error, mean_squared_error, root_mean_squared_error\n",
    "from plantbrain_fastml.models.forecasters.arima import ArimaForecaster\n",
    "from plantbrain_fastml.models.forecasters.exp_smotthing import ExpSmoothingForecaster"
   ]
  },
  {
   "cell_type": "code",
   "execution_count": 35,
   "id": "666b0da1",
   "metadata": {},
   "outputs": [],
   "source": [
    "import warnings\n",
    "warnings.filterwarnings(\"ignore\")"
   ]
  },
  {
   "cell_type": "code",
   "execution_count": 36,
   "id": "7dc8ae51",
   "metadata": {},
   "outputs": [],
   "source": [
    "df = pd.read_csv(\"/Users/aditya/Desktop/fastml/plantbrain-fastml/tests/forecast_test.csv\")          # or any other source\n",
    "df[\"Date\"] = pd.to_datetime(df[\"Date\"])\n",
    "df = (\n",
    "    df[[\"Date\", \"Close\"]]\n",
    "    .dropna(subset=[\"Close\"])\n",
    "    .sort_values(\"Date\")\n",
    "    .set_index(\"Date\")\n",
    ")"
   ]
  },
  {
   "cell_type": "code",
   "execution_count": 37,
   "id": "3c016502",
   "metadata": {},
   "outputs": [],
   "source": [
    "split = int(len(df) * 0.8)\n",
    "x_train = df.index[:split]\n",
    "x_test  = df.index[split:]\n",
    "y_train = df[\"Close\"].iloc[:split]\n",
    "y_test  = df[\"Close\"].iloc[split:]"
   ]
  },
  {
   "cell_type": "code",
   "execution_count": 43,
   "id": "bf95f5b2",
   "metadata": {},
   "outputs": [],
   "source": [
    "model = ExpSmoothingForecaster(\n",
    "    forecast_horizon=len(y_test),   # predict the whole hold-out at once\n",
    "    transformation=\"power_transformer\",   # or None\n",
    "    arima_orders=None,              # let auto_arima decide\n",
    ")"
   ]
  },
  {
   "cell_type": "code",
   "execution_count": 44,
   "id": "dbd00d0b",
   "metadata": {},
   "outputs": [],
   "source": [
    "model.train(X=x_train, y=y_train)"
   ]
  },
  {
   "cell_type": "code",
   "execution_count": 45,
   "id": "1ee62f32",
   "metadata": {},
   "outputs": [],
   "source": [
    "preds = model.predict(steps=len(y_test))"
   ]
  },
  {
   "cell_type": "code",
   "execution_count": 46,
   "id": "f41074d0",
   "metadata": {},
   "outputs": [
    {
     "data": {
      "text/plain": [
       "{'rmse': np.float64(586.2535711512827),\n",
       " 'mape': nan,\n",
       " 'mae': np.float64(464.4526415718593),\n",
       " 'mse': nan}"
      ]
     },
     "execution_count": 46,
     "metadata": {},
     "output_type": "execute_result"
    }
   ],
   "source": [
    "model.evaluate(X=None, y=y_test)"
   ]
  },
  {
   "cell_type": "code",
   "execution_count": 33,
   "id": "61841ee1",
   "metadata": {},
   "outputs": [],
   "source": [
    "# works\n",
    "# model.save(\"/Users/aditya/Desktop/fastml/plantbrain-fastml/tests/arima_model.pkl\")"
   ]
  },
  {
   "cell_type": "code",
   "execution_count": 47,
   "id": "6ea8cbe7",
   "metadata": {},
   "outputs": [
    {
     "name": "stderr",
     "output_type": "stream",
     "text": [
      "[I 2025-06-23 16:59:45,019] A new study created in memory with name: no-name-d7ab283a-0889-4723-96f4-70a70ab342c2\n",
      "[I 2025-06-23 16:59:45,331] Trial 0 finished with value: 74.59127625166207 and parameters: {'trend': None, 'damped_trend': False, 'seasonal': 'mul', 'seasonal_periods': 4}. Best is trial 0 with value: 74.59127625166207.\n",
      "[I 2025-06-23 16:59:45,631] Trial 1 finished with value: 74.59127625166207 and parameters: {'trend': 'add', 'damped_trend': False, 'seasonal': 'mul', 'seasonal_periods': 16}. Best is trial 0 with value: 74.59127625166207.\n",
      "[I 2025-06-23 16:59:45,928] Trial 2 finished with value: 74.59127625166207 and parameters: {'trend': 'mul', 'damped_trend': True, 'seasonal': None}. Best is trial 0 with value: 74.59127625166207.\n",
      "[I 2025-06-23 16:59:46,229] Trial 3 finished with value: 74.59127625166207 and parameters: {'trend': None, 'damped_trend': False, 'seasonal': 'add', 'seasonal_periods': 20}. Best is trial 0 with value: 74.59127625166207.\n",
      "[I 2025-06-23 16:59:46,526] Trial 4 finished with value: 74.59127625166207 and parameters: {'trend': None, 'damped_trend': False, 'seasonal': 'add', 'seasonal_periods': 8}. Best is trial 0 with value: 74.59127625166207.\n",
      "[I 2025-06-23 16:59:46,831] Trial 5 finished with value: 74.59127625166207 and parameters: {'trend': 'mul', 'damped_trend': True, 'seasonal': 'mul', 'seasonal_periods': 8}. Best is trial 0 with value: 74.59127625166207.\n",
      "[I 2025-06-23 16:59:47,150] Trial 6 finished with value: 74.59127625166207 and parameters: {'trend': 'mul', 'damped_trend': False, 'seasonal': None}. Best is trial 0 with value: 74.59127625166207.\n",
      "[I 2025-06-23 16:59:47,475] Trial 7 finished with value: 74.59127625166207 and parameters: {'trend': 'mul', 'damped_trend': True, 'seasonal': 'add', 'seasonal_periods': 8}. Best is trial 0 with value: 74.59127625166207.\n",
      "[I 2025-06-23 16:59:47,776] Trial 8 finished with value: 74.59127625166207 and parameters: {'trend': 'add', 'damped_trend': False, 'seasonal': 'add', 'seasonal_periods': 12}. Best is trial 0 with value: 74.59127625166207.\n",
      "[I 2025-06-23 16:59:48,066] Trial 9 finished with value: 74.59127625166207 and parameters: {'trend': 'mul', 'damped_trend': True, 'seasonal': 'add', 'seasonal_periods': 12}. Best is trial 0 with value: 74.59127625166207.\n",
      "[I 2025-06-23 16:59:48,361] Trial 10 finished with value: 74.59127625166207 and parameters: {'trend': None, 'damped_trend': False, 'seasonal': 'mul', 'seasonal_periods': 4}. Best is trial 0 with value: 74.59127625166207.\n",
      "[I 2025-06-23 16:59:48,654] Trial 11 finished with value: 74.59127625166207 and parameters: {'trend': 'add', 'damped_trend': False, 'seasonal': 'mul', 'seasonal_periods': 20}. Best is trial 0 with value: 74.59127625166207.\n",
      "[I 2025-06-23 16:59:48,951] Trial 12 finished with value: 74.59127625166207 and parameters: {'trend': 'add', 'damped_trend': False, 'seasonal': 'mul', 'seasonal_periods': 24}. Best is trial 0 with value: 74.59127625166207.\n",
      "[I 2025-06-23 16:59:49,248] Trial 13 finished with value: 74.59127625166207 and parameters: {'trend': 'add', 'damped_trend': False, 'seasonal': 'mul', 'seasonal_periods': 16}. Best is trial 0 with value: 74.59127625166207.\n",
      "[I 2025-06-23 16:59:49,545] Trial 14 finished with value: 74.59127625166207 and parameters: {'trend': None, 'damped_trend': False, 'seasonal': 'mul', 'seasonal_periods': 16}. Best is trial 0 with value: 74.59127625166207.\n",
      "[I 2025-06-23 16:59:49,879] Trial 15 finished with value: 74.59127625166207 and parameters: {'trend': 'add', 'damped_trend': False, 'seasonal': 'mul', 'seasonal_periods': 4}. Best is trial 0 with value: 74.59127625166207.\n",
      "[I 2025-06-23 16:59:50,177] Trial 16 finished with value: 74.59127625166207 and parameters: {'trend': None, 'damped_trend': False, 'seasonal': 'mul', 'seasonal_periods': 20}. Best is trial 0 with value: 74.59127625166207.\n",
      "[I 2025-06-23 16:59:50,473] Trial 17 finished with value: 74.59127625166207 and parameters: {'trend': None, 'damped_trend': False, 'seasonal': None}. Best is trial 0 with value: 74.59127625166207.\n",
      "[I 2025-06-23 16:59:50,772] Trial 18 finished with value: 74.59127625166207 and parameters: {'trend': 'add', 'damped_trend': True, 'seasonal': 'mul', 'seasonal_periods': 12}. Best is trial 0 with value: 74.59127625166207.\n",
      "[I 2025-06-23 16:59:51,071] Trial 19 finished with value: 74.59127625166207 and parameters: {'trend': None, 'damped_trend': False, 'seasonal': 'mul', 'seasonal_periods': 16}. Best is trial 0 with value: 74.59127625166207.\n"
     ]
    },
    {
     "data": {
      "text/plain": [
       "{'trend': None,\n",
       " 'damped_trend': False,\n",
       " 'seasonal': 'mul',\n",
       " 'seasonal_periods': 4}"
      ]
     },
     "execution_count": 47,
     "metadata": {},
     "output_type": "execute_result"
    }
   ],
   "source": [
    "model.hypertune(\n",
    "    X=x_train,\n",
    "    y=y_train)"
   ]
  },
  {
   "cell_type": "code",
   "execution_count": null,
   "id": "0c6e40b4",
   "metadata": {},
   "outputs": [],
   "source": []
  }
 ],
 "metadata": {
  "kernelspec": {
   "display_name": "fastml",
   "language": "python",
   "name": "python3"
  },
  "language_info": {
   "codemirror_mode": {
    "name": "ipython",
    "version": 3
   },
   "file_extension": ".py",
   "mimetype": "text/x-python",
   "name": "python",
   "nbconvert_exporter": "python",
   "pygments_lexer": "ipython3",
   "version": "3.9.7"
  }
 },
 "nbformat": 4,
 "nbformat_minor": 5
}
